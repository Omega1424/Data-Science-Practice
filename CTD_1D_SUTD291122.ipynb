{
  "nbformat": 4,
  "nbformat_minor": 0,
  "metadata": {
    "colab": {
      "provenance": [],
      "include_colab_link": true
    },
    "kernelspec": {
      "name": "python3",
      "display_name": "Python 3"
    },
    "language_info": {
      "name": "python"
    }
  },
  "cells": [
    {
      "cell_type": "markdown",
      "metadata": {
        "id": "view-in-github",
        "colab_type": "text"
      },
      "source": [
        "<a href=\"https://colab.research.google.com/github/Omega1424/Data-Science-Practice/blob/main/CTD_1D_SUTD291122.ipynb\" target=\"_parent\"><img src=\"https://colab.research.google.com/assets/colab-badge.svg\" alt=\"Open In Colab\"/></a>"
      ]
    },
    {
      "cell_type": "markdown",
      "source": [
        "Game Dictionaries"
      ],
      "metadata": {
        "id": "7ZaZxDNQRLES"
      }
    },
    {
      "cell_type": "code",
      "source": [
        "import random\n",
        "happiness_actions = [‘go to the root cove with friends’, ‘go to CCP for a meal with your friends’, ‘play board games in hostel lounge with friends’] \n",
        "\n",
        "health_actions = [‘go gym’, ‘go to 5th row training’, ‘go for a run at the school track’, ‘cook your own meal in hostel’] "
      ],
      "metadata": {
        "id": "I0eedUib_-_-"
      },
      "execution_count": null,
      "outputs": []
    },
    {
      "cell_type": "code",
      "source": [
        "\n",
        "\n",
        "m_a_actions = {relax : health_actions , (0, 0, 1)} \n",
        "\n",
        "Morning_Choices = {‘Go to class’: i, ‘Go to study’: (1, 0, 0), random(health_actions): (0, 0, 1), random(happiness_actions): (0, 1, 0)} \n",
        "\n"
      ],
      "metadata": {
        "id": "KNWi2hBURPFY"
      },
      "execution_count": null,
      "outputs": []
    },
    {
      "cell_type": "markdown",
      "source": [
        "Function for random action\n"
      ],
      "metadata": {
        "id": "BpadVvBKb0zS"
      }
    },
    {
      "cell_type": "code",
      "source": [
        "def morning_choice():\n",
        "  goclass=go_to_class()\n",
        "  choices = {'go to class': (1,0,0), 'study': (0.5,0,0), random.choice(happiness_actions):(0,1,0), random.choice(health_actions):(0,0,1)}\n",
        "  return choices\n",
        "  \n",
        "  "
      ],
      "metadata": {
        "id": "-efnUMHFcDIv"
      },
      "execution_count": 7,
      "outputs": []
    },
    {
      "cell_type": "code",
      "source": [
        "def choose_action(s):\n",
        "  format_list = []\n",
        "  \n",
        "  for i,j in enumerate(s):\n",
        "    format_list.append((i+1,j))\n",
        "\n",
        "  prompt = input(f\"Choose 1 option from the following by entering the respective number: {format_list[0][0]}. {format_list[0][1]}, {format_list[1][0]}. {format_list[1][1]}, {format_list[2][0]}. {format_list[2][1]}, {format_list[3][0]}. {format_list[3][1]}: \")\n",
        "  \n",
        "    \n",
        "choose_action(morning_choice())"
      ],
      "metadata": {
        "id": "hZ7KlpEXE3hM",
        "outputId": "ba3cbee4-e380-4298-dc87-488a18f5c438",
        "colab": {
          "base_uri": "https://localhost:8080/",
          "height": 322
        }
      },
      "execution_count": 8,
      "outputs": [
        {
          "output_type": "error",
          "ename": "NameError",
          "evalue": "ignored",
          "traceback": [
            "\u001b[0;31m---------------------------------------------------------------------------\u001b[0m",
            "\u001b[0;31mNameError\u001b[0m                                 Traceback (most recent call last)",
            "\u001b[0;32m<ipython-input-8-6072435ebf08>\u001b[0m in \u001b[0;36m<module>\u001b[0;34m\u001b[0m\n\u001b[1;32m      8\u001b[0m \u001b[0;34m\u001b[0m\u001b[0m\n\u001b[1;32m      9\u001b[0m \u001b[0;34m\u001b[0m\u001b[0m\n\u001b[0;32m---> 10\u001b[0;31m \u001b[0mchoose_action\u001b[0m\u001b[0;34m(\u001b[0m\u001b[0mmorning_choice\u001b[0m\u001b[0;34m(\u001b[0m\u001b[0;34m)\u001b[0m\u001b[0;34m)\u001b[0m\u001b[0;34m\u001b[0m\u001b[0;34m\u001b[0m\u001b[0m\n\u001b[0m",
            "\u001b[0;32m<ipython-input-7-68b6c948e508>\u001b[0m in \u001b[0;36mmorning_choice\u001b[0;34m()\u001b[0m\n\u001b[1;32m      1\u001b[0m \u001b[0;32mdef\u001b[0m \u001b[0mmorning_choice\u001b[0m\u001b[0;34m(\u001b[0m\u001b[0;34m)\u001b[0m\u001b[0;34m:\u001b[0m\u001b[0;34m\u001b[0m\u001b[0;34m\u001b[0m\u001b[0m\n\u001b[0;32m----> 2\u001b[0;31m   \u001b[0mgoclass\u001b[0m\u001b[0;34m=\u001b[0m\u001b[0mgo_to_class\u001b[0m\u001b[0;34m(\u001b[0m\u001b[0;34m)\u001b[0m\u001b[0;34m\u001b[0m\u001b[0;34m\u001b[0m\u001b[0m\n\u001b[0m\u001b[1;32m      3\u001b[0m   \u001b[0mchoices\u001b[0m \u001b[0;34m=\u001b[0m \u001b[0;34m{\u001b[0m\u001b[0;34m'go to class'\u001b[0m\u001b[0;34m:\u001b[0m \u001b[0;34m(\u001b[0m\u001b[0;36m1\u001b[0m\u001b[0;34m,\u001b[0m\u001b[0;36m0\u001b[0m\u001b[0;34m,\u001b[0m\u001b[0;36m0\u001b[0m\u001b[0;34m)\u001b[0m\u001b[0;34m,\u001b[0m \u001b[0;34m'study'\u001b[0m\u001b[0;34m:\u001b[0m \u001b[0;34m(\u001b[0m\u001b[0;36m0.5\u001b[0m\u001b[0;34m,\u001b[0m\u001b[0;36m0\u001b[0m\u001b[0;34m,\u001b[0m\u001b[0;36m0\u001b[0m\u001b[0;34m)\u001b[0m\u001b[0;34m,\u001b[0m \u001b[0mrandom\u001b[0m\u001b[0;34m.\u001b[0m\u001b[0mchoice\u001b[0m\u001b[0;34m(\u001b[0m\u001b[0mhappiness_actions\u001b[0m\u001b[0;34m)\u001b[0m\u001b[0;34m:\u001b[0m\u001b[0;34m(\u001b[0m\u001b[0;36m0\u001b[0m\u001b[0;34m,\u001b[0m\u001b[0;36m1\u001b[0m\u001b[0;34m,\u001b[0m\u001b[0;36m0\u001b[0m\u001b[0;34m)\u001b[0m\u001b[0;34m,\u001b[0m \u001b[0mrandom\u001b[0m\u001b[0;34m.\u001b[0m\u001b[0mchoice\u001b[0m\u001b[0;34m(\u001b[0m\u001b[0mhealth_actions\u001b[0m\u001b[0;34m)\u001b[0m\u001b[0;34m:\u001b[0m\u001b[0;34m(\u001b[0m\u001b[0;36m0\u001b[0m\u001b[0;34m,\u001b[0m\u001b[0;36m0\u001b[0m\u001b[0;34m,\u001b[0m\u001b[0;36m1\u001b[0m\u001b[0;34m)\u001b[0m\u001b[0;34m}\u001b[0m\u001b[0;34m\u001b[0m\u001b[0;34m\u001b[0m\u001b[0m\n\u001b[1;32m      4\u001b[0m   \u001b[0;32mreturn\u001b[0m \u001b[0mchoices\u001b[0m\u001b[0;34m\u001b[0m\u001b[0;34m\u001b[0m\u001b[0m\n\u001b[1;32m      5\u001b[0m \u001b[0;34m\u001b[0m\u001b[0m\n",
            "\u001b[0;31mNameError\u001b[0m: name 'go_to_class' is not defined"
          ]
        }
      ]
    },
    {
      "cell_type": "markdown",
      "source": [
        "Time Function"
      ],
      "metadata": {
        "id": "yrNpR6bXbu9H"
      }
    },
    {
      "cell_type": "code",
      "source": [
        "def game_time():\n",
        "  day_count = 0\n",
        "  while day_count <= 5:\n",
        "  \n",
        "\n",
        "    day_count += 1\n"
      ],
      "metadata": {
        "id": "ranNpgfGb2iL"
      },
      "execution_count": null,
      "outputs": []
    },
    {
      "cell_type": "markdown",
      "source": [
        "General Format\n"
      ],
      "metadata": {
        "id": "4Su2fVUaVbTm"
      }
    },
    {
      "cell_type": "code",
      "source": [
        "mastery, happiness, health = 0, 0, 0\n",
        "\n",
        "\n",
        "def game_main():\n",
        "  char_name = input('What is your name?')\n",
        "  print(f\"Welcome to SUTD {char_name}! Finals are in 5 days LOL!\")\n",
        "  print(\"With Finals in 5 days, you have to achieve a level of Mastery of 5 and above in order to pass the game. To earn levels of Mastery, attend classes or \\\n",
        "go for study sessions.\")\n",
        "  print(\"Sleep and exercise to maintain your levels of Health. Socialise and relax with friends to maintain your levels of Happiness.\")\n",
        "  print(\"Study hard but don't forget to maintain your levels of Health and Happiness!\")\n",
        "  \n",
        "  \n",
        "\n",
        "\n",
        "  \n",
        "  return \n",
        "\n",
        "game_main()"
      ],
      "metadata": {
        "id": "HyEqEo_iVWw9"
      },
      "execution_count": null,
      "outputs": []
    },
    {
      "cell_type": "code",
      "source": [],
      "metadata": {
        "id": "M35M7XOOWk4J"
      },
      "execution_count": null,
      "outputs": []
    }
  ]
}